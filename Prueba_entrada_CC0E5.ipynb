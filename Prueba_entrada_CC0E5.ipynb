{
  "cells": [
    {
      "cell_type": "markdown",
      "id": "bf6baf5f-fa49-47ae-ba55-648229981375",
      "metadata": {
        "nbgrader": {
          "grade": false,
          "locked": true,
          "solution": false
        },
        "editable": false,
        "deletable": false,
        "id": "bf6baf5f-fa49-47ae-ba55-648229981375"
      },
      "source": [
        "### Prueba de entrada\n",
        "\n",
        "Presenta la ruta del repositorio donde se encuentra un cuaderno  de jupyter notebook con todas tus respuestas."
      ]
    },
    {
      "cell_type": "markdown",
      "id": "15495e6c-9dc1-4810-8093-d8a54b764446",
      "metadata": {
        "nbgrader": {
          "grade": false,
          "locked": true,
          "solution": false
        },
        "editable": false,
        "deletable": false,
        "id": "15495e6c-9dc1-4810-8093-d8a54b764446"
      },
      "source": [
        "#### **Pregunta 1**\n",
        "\n",
        "Estás organizando una fiesta. En preparación, vas a preparar una bebida mezclando tres tipos diferentes de jugo de fruta: **manzana**, **plátano** y **zanahoria**. Llamemos a los jugos **A**, **B** y **C**.\n",
        "\n",
        "Quieres decidir qué fracción de la bebida debe estar compuesta por cada tipo de jugo, de tal manera que el **número máximo posible de personas** que asistan a la fiesta **la disfruten**.\n",
        "\n",
        "Cada persona tiene una fracción mínima de cada uno de los 3 jugos que desea tener en la bebida. Solo les gustará la bebida si la fracción de cada uno de los 3 jugos en la mezcla es **mayor o igual** a su fracción mínima para ese jugo.\n",
        "\n",
        "Tu objetivo es **determinar el número máximo de personas** que puedes satisfacer.\n",
        "\n",
        "##### **Entrada**\n",
        "\n",
        "- Una línea con un entero `T`, que representa el número de casos de prueba.\n",
        "\n",
        "Para cada caso de prueba, habrá:\n",
        "\n",
        "- Una línea con un entero `N`, el número de personas que van a la fiesta.\n",
        "- `N` líneas adicionales, cada una para una persona, conteniendo tres números enteros separados por espacios: `\"A B C\"`, que representan la fracción mínima de cada jugo que desea esa persona en la bebida.\n",
        "\n",
        "Los valores de `A`, `B` y `C` están entre **0 y 10,000** inclusive, y representan fracciones en partes por diez mil.  \n",
        "Se garantiza que para cada persona se cumple: `A + B + C < 10,000`.\n",
        "\n",
        "También se garantiza:\n",
        "```\n",
        "1 ≤ T ≤ 2\n",
        "1 ≤ N ≤ 5000\n",
        "```\n",
        "**Salida**\n",
        "\n",
        "- Se deben imprimir `T` líneas, una por cada caso de prueba, en el orden en que aparecen en la entrada.\n",
        "- Cada línea debe contener la cadena:\n",
        "\n",
        "```\n",
        "Caso #X: Y\n",
        "```\n",
        "\n",
        "Donde:\n",
        "- `X` es el número del caso de prueba (empezando en 1),\n",
        "- `Y` es el número máximo de personas que disfrutarán la bebida preparada.\n",
        "\n",
        "**Ejemplo de entrada 1**\n",
        "\n",
        "```\n",
        "2\n",
        "3\n",
        "10000 0 0\n",
        "0 10000 0\n",
        "0 0 10000\n",
        "3\n",
        "5000 0 0\n",
        "0 2000 0\n",
        "0 0 4000\n",
        "```\n",
        "\n",
        "**Ejemplo de salida 1**\n",
        "\n",
        "```\n",
        "Caso #1: 1\n",
        "Caso #2: 2\n",
        "```\n",
        "**Ejemplo de entrada 2**\n",
        "\n",
        "```\n",
        "1\n",
        "5\n",
        "0 1250 0\n",
        "3000 0 3000\n",
        "1000 1000 1000\n",
        "2000 1000 2000\n",
        "1000 3000 2000\n",
        "```\n",
        "\n",
        "**Ejemplo de salida 2**\n",
        "\n",
        "```\n",
        "Caso #1: 5\n",
        "```\n"
      ]
    },
    {
      "cell_type": "code",
      "source": [
        "import numpy as np\n",
        "\n",
        "T = 1\n",
        "\n",
        "#RESTRICCIONES\n",
        "#Bebidas con cantidad mínima de cada líquido: [A_i, B_i, C_i], para i = 0->N\n",
        "#Con N personas\n",
        "\n",
        "# restricciones = np.zeros((10, 3))\n",
        "# restricciones = np.array([[0, 1250, 0],\n",
        "#                           [3000, 0, 3000],\n",
        "#                           [1000, 1000, 1000],\n",
        "#                           [2000, 1000, 2000],\n",
        "#                           [1000, 3000, 2000]])\n",
        "\n",
        "\n",
        "# restricciones = np.array([[5000, 0, 0],\n",
        "#                           [0, 2000, 0],\n",
        "#                           [0, 0, 4000]])\n",
        "\n",
        "\n",
        "# print(restricciones)\n",
        "\n",
        "#Numero de personas\n",
        "N = 5000\n",
        "#Restricciones aleatorias para testear entre 0 y 6000\n",
        "restricciones = np.random.rand(N, 3)*6000\n",
        "\n",
        "print(\"Personas: \", N)\n",
        "#A + B + C <= 10000\n",
        "#Restriccion principal, la suma de las cantidades elegidas debe ser <=10000\n",
        "limit = lambda A,B,C: A + B + C <= 10000 and A>=0 and B>=0 and C>=0\n",
        "\n",
        "def adjust_restrict(opt_vals):\n",
        "  while not limit(*opt_vals):\n",
        "    i = np.argmax(opt_vals)\n",
        "    opt_vals[i] = 10000 - np.sum(opt_vals[np.arange(len(opt_vals))!=i])\n",
        "    opt_vals[opt_vals<0] = 0\n",
        "\n",
        "    #print(opt_vals)\n",
        "  return opt_vals\n",
        "\n",
        "\n",
        "def check_restrains(restricciones):\n",
        "  #Valida que las restricciones por persona estén en el rango de 0 a 10000\n",
        "  if (restricciones <0).all() or (restricciones >10000).all():\n",
        "    print(\"Restricciones invalidas\")\n",
        "    return\n",
        "  max_tries = 20\n",
        "  #Numero maximo de personas satisfechas\n",
        "  max_people = 0\n",
        "  #Se elige como punto de partida la media de las restricciones de cada persona por bebida\n",
        "  x = np.mean(restricciones[:,0]) #promedio de bebida A\n",
        "  y = np.mean(restricciones[:,1]) #promedio de bebida B\n",
        "  z = np.mean(restricciones[:,2]) #promedio de bebida C\n",
        "\n",
        "  #Valor de variación para cada iteración\n",
        "  DELTA = [1]*3\n",
        "  #Valores optimos para cada bebida\n",
        "  opt_vals = np.array([x,y,z])\n",
        "\n",
        "  #Se ajusta los valores optimos elegidos inicialmente para que cumplan con la restriccion inicial\n",
        "  adjust_restrict(opt_vals)\n",
        "  print(opt_vals)\n",
        "\n",
        "  for i in range(max_tries):\n",
        "    #Se cuenta el numero de personas que cumplen con los valores elegidos por bebida\n",
        "    #Resultado: [n_a, n_b, n_c]\n",
        "    people_survey = np.array([row <= opt_vals for row in restricciones])\n",
        "    people_by_drink = np.count_nonzero(people_survey, axis=0)\n",
        "\n",
        "    #Se cuenta el numero de personas que cumplen en total\n",
        "    people = np.array([1 if (r==True).all() else 0 for r in people_survey])\n",
        "    num_people = np.sum(people)\n",
        "\n",
        "    #Se actualiza el delta para que aumente el valor de la cantidad de bebida\n",
        "    #a menor numero de personas que cumplan con la bebida, se aumenta la cantidad de dicha bebida\n",
        "\n",
        "    DELTA = (1 - people_by_drink/N)\n",
        "    #print(people_survey)\n",
        "    # print(\"-\"*10)\n",
        "    # print(\"Personas satisfechas: \",num_people)\n",
        "    # print(\"Dirección de cambio (A,B,C): \",DELTA)\n",
        "    #print(people)\n",
        "\n",
        "    #Si el numero de personas satisfechas es igual al total, se detiene\n",
        "    if num_people == N:\n",
        "      max_people = N\n",
        "      break\n",
        "    #Si se alcanzó un nuevo maximo de personas satisfechas, se actualiza\n",
        "    if num_people >= max_people:\n",
        "      max_people = num_people\n",
        "\n",
        "    #Se actualiza los valores optimos de cada bebida y se ajustan los nuevos valores\n",
        "    #a la restriccion inicial\n",
        "    opt_vals = opt_vals*(1+DELTA)\n",
        "    opt_vals = adjust_restrict(opt_vals)\n",
        "    # print(opt_vals)\n",
        "\n",
        "  print(\"Numero maximo de personas: \", max_people)\n",
        "\n",
        "\n",
        "check_restrains(restricciones)\n",
        "\n",
        "\n"
      ],
      "metadata": {
        "id": "cbMl3Vr1b4_V",
        "colab": {
          "base_uri": "https://localhost:8080/"
        },
        "outputId": "5131e2ea-a7ba-47c6-9f78-efbfe07ea95e"
      },
      "id": "cbMl3Vr1b4_V",
      "execution_count": null,
      "outputs": [
        {
          "output_type": "stream",
          "name": "stdout",
          "text": [
            "Personas:  5000\n",
            "[3031.0750328  3012.68576536 2965.2520014 ]\n",
            "Numero maximo de personas:  814\n"
          ]
        }
      ]
    },
    {
      "cell_type": "code",
      "source": [
        "prueba = np.array([[True, True, False],[True, True, True]])\n",
        "[1 if (p==True).all() else 0 for p in prueba]"
      ],
      "metadata": {
        "colab": {
          "base_uri": "https://localhost:8080/"
        },
        "id": "_RmRTXS6vcrf",
        "outputId": "846c9d12-3d92-4ab7-8e30-f87dcd1a84f7"
      },
      "id": "_RmRTXS6vcrf",
      "execution_count": null,
      "outputs": [
        {
          "output_type": "execute_result",
          "data": {
            "text/plain": [
              "[0, 1]"
            ]
          },
          "metadata": {},
          "execution_count": 91
        }
      ]
    },
    {
      "cell_type": "markdown",
      "id": "f8b035fb-8778-457b-8c10-99d77d5bb6af",
      "metadata": {
        "nbgrader": {
          "grade": false,
          "locked": true,
          "solution": false
        },
        "editable": false,
        "deletable": false,
        "id": "f8b035fb-8778-457b-8c10-99d77d5bb6af"
      },
      "source": [
        "#### **Pregunta 2**\n",
        "\n",
        "Durante el verano, las ciudades antiguas de Europa se llenan de turistas que recorren las calles y visitan los puntos de interés.\n",
        "\n",
        "Muchas de estas ciudades fueron construidas de manera orgánica, sin seguir un plan arquitectónico definido, pero curiosamente, su crecimiento sigue un patrón común: las ciudades comienzan con **tres puntos de interés**, en los cuales **cada par está conectado** por una calle bidireccional. Luego, de manera gradual, se agregan nuevos puntos de interés.  \n",
        "Cada nuevo punto se conecta mediante **dos calles bidireccionales** a **dos puntos anteriores diferentes**, que **ya estaban conectados directamente entre sí**.\n",
        "\n",
        "Un turista desea hacer un recorrido visitando **la mayor cantidad posible de puntos de interés diferentes**. El recorrido puede comenzar en **cualquier punto**, pero debe terminar en el **mismo punto**.\n",
        "\n",
        "Las reglas del recorrido son:\n",
        "\n",
        "- Cada **calle** puede recorrerse **a lo sumo una vez**.\n",
        "- Cada **punto de interés** puede visitarse **a lo sumo una vez**, excepto por el **punto de inicio**, que se visitará exactamente dos veces (al inicio y al final).\n",
        "\n",
        "\n",
        "**Objetivo**\n",
        "\n",
        "Dada la descripción de cómo creció la ciudad, determina **el mayor número de puntos de interés diferentes** que se pueden visitar en un solo recorrido.\n",
        "\n",
        "\n",
        "**Entrada**\n",
        "\n",
        "- La primera línea contiene un número entero `T`, que representa el número de casos de prueba.\n",
        "\n",
        "Para cada caso de prueba:\n",
        "\n",
        "- Una línea con un entero `N`,  el número total de puntos de interés en la ciudad.  \n",
        "  Los puntos se numeran del `1` al `N`.\n",
        "\n",
        "  - Los puntos `1`, `2` y `3` son los originales con los que la ciudad empezó.\n",
        "  - Los puntos `4` hasta `N` son los que se añadieron posteriormente.\n",
        "\n",
        "- Las siguientes `N -3` líneas contienen **dos enteros separados por espacio**, `A B`, que indican que el punto correspondiente se conecta mediante calles a los puntos `A` y `B`.\n",
        "\n",
        "  - La primera de estas líneas corresponde al punto `4`, la segunda al `5`, y así sucesivamente.\n",
        "\n",
        "**Salida**\n",
        "\n",
        "Para cada caso de prueba, se debe imprimir una línea con el siguiente formato:\n",
        "\n",
        "```\n",
        "Caso #x: y\n",
        "```\n",
        "\n",
        "Donde:\n",
        "- `x` es el número del caso de prueba (comenzando desde 1),\n",
        "- `y` es el **mayor número de puntos de interés** que se pueden visitar en un recorrido válido por esa ciudad.\n",
        "\n",
        "**Límites**\n",
        "\n",
        "- `1 ≤ T ≤ 50`  \n",
        "- `4 ≤ N ≤ 1000`\n",
        "\n",
        "**Ejemplo de entrada**\n",
        "\n",
        "```\n",
        "2\n",
        "5\n",
        "1 2\n",
        "2 1\n",
        "6\n",
        "1 2\n",
        "1 4\n",
        "4 5\n",
        "```\n",
        "**Ejemplo de salida**\n",
        "\n",
        "```\n",
        "Caso #1: 4\n",
        "Caso #2: 6\n",
        "```"
      ]
    },
    {
      "cell_type": "code",
      "execution_count": 1,
      "id": "0dd70a34-21c9-4941-901b-c844dd407dae",
      "metadata": {
        "nbgrader": {
          "grade": true,
          "locked": false,
          "solution": true
        },
        "editable": true,
        "deletable": true,
        "id": "0dd70a34-21c9-4941-901b-c844dd407dae"
      },
      "outputs": [],
      "source": [
        "import numpy as np\n",
        "\n",
        "#Clase que implementa un grafo bidireccionado\n",
        "class Graph():\n",
        "  def __init__(self, vertices, edges) -> None:\n",
        "    self.vertices = np.arange(1,vertices+1)\n",
        "    self.edges = {int(v): [] for v in self.vertices}\n",
        "\n",
        "    #Para cada vertice v, se añaden los otros 2 vertices que lo conectan\n",
        "    for v,e in enumerate(edges):\n",
        "      for i in e:\n",
        "        if i not in self.edges[v+1]:\n",
        "          self.edges[v+1].append(i)\n",
        "          self.edges[i].append(v+1)\n",
        "\n",
        "    print(self.vertices)\n",
        "    print(self.edges)\n",
        "\n",
        "  def longest_cycle(self):\n",
        "    # Busca el bucle mas grande en el grafo, el que contenga mayor numero de vertices\n",
        "    longest_cycle = 0\n",
        "    visited = [False]*len(self.vertices)\n",
        "    cycle = []\n",
        "    #Se utiliza un depth-first search en el grafo para obtener el mayor numero de aristas\n",
        "    def dfs(node, cycle):\n",
        "      nonlocal longest_cycle\n",
        "      #Si el bucle mas grande cubre todos los vertices, se termina\n",
        "      if longest_cycle==len(self.vertices):\n",
        "        return\n",
        "      #Se añade al camino el nodo actual\n",
        "      cycle.append(int(node))\n",
        "      #Para cada vecino del nodo actual\n",
        "      for neighbor in self.edges[node]:\n",
        "        #Si el vecino no está en el camino, se añade a la busqueda\n",
        "        if neighbor not in cycle:\n",
        "          dfs(neighbor, cycle)\n",
        "        #Si el vecino ya estaba en el camino y hay por lo menos 2 aristas mas, se forma un ciclo\n",
        "        elif neighbor in cycle and len(cycle)-cycle.index(neighbor)>2:\n",
        "          #Se compara la longitud del ciclo con la maxima registrada hasta el momento\n",
        "          found_cycle = len(cycle)-cycle.index(neighbor)\n",
        "          if found_cycle > longest_cycle:\n",
        "            longest_cycle = found_cycle\n",
        "            print(cycle, \"->\",neighbor)\n",
        "            print(found_cycle)\n",
        "      #Se quita del camino el nodo actual para continuar con sus vecinos\n",
        "      cycle.pop()\n",
        "\n",
        "    #Se realiza la busqueda dfs para todos los nodos en el grafo\n",
        "    for node in self.vertices:\n",
        "      if node not in cycle:\n",
        "        dfs(node, cycle)\n",
        "\n",
        "\n",
        "    print(\"Mayor ciclo: \", longest_cycle)\n",
        "    return\n",
        "\n",
        "\n"
      ]
    },
    {
      "cell_type": "code",
      "source": [
        "V = 6\n",
        "E = [(2,3), (1,3), (1,2), (1,2), (1,4), (4,5)]\n",
        "graph = Graph(V, E)"
      ],
      "metadata": {
        "colab": {
          "base_uri": "https://localhost:8080/"
        },
        "id": "hlu9o_6wEHlr",
        "outputId": "58cdb42d-b9bd-45ec-aed5-2a6a5723ce65"
      },
      "id": "hlu9o_6wEHlr",
      "execution_count": 2,
      "outputs": [
        {
          "output_type": "stream",
          "name": "stdout",
          "text": [
            "[1 2 3 4 5 6]\n",
            "{1: [2, 3, 4, 5], 2: [1, 3, 4], 3: [1, 2], 4: [1, 2, 5, 6], 5: [1, 4, 6], 6: [4, 5]}\n"
          ]
        }
      ]
    },
    {
      "cell_type": "code",
      "source": [
        "graph.longest_cycle()"
      ],
      "metadata": {
        "id": "g0sFYHqXHtdW",
        "colab": {
          "base_uri": "https://localhost:8080/"
        },
        "outputId": "05cdb3b5-08eb-4613-a3be-5c37e6aa3c48"
      },
      "id": "g0sFYHqXHtdW",
      "execution_count": 3,
      "outputs": [
        {
          "output_type": "stream",
          "name": "stdout",
          "text": [
            "[1, 2, 3] -> 1\n",
            "3\n",
            "[1, 2, 4, 5] -> 1\n",
            "4\n",
            "[1, 2, 4, 6, 5] -> 1\n",
            "5\n",
            "[1, 3, 2, 4, 6, 5] -> 1\n",
            "6\n",
            "Mayor ciclo:  6\n"
          ]
        }
      ]
    }
  ],
  "metadata": {
    "kernelspec": {
      "display_name": "Python 3 (ipykernel)",
      "language": "python",
      "name": "python3"
    },
    "language_info": {
      "codemirror_mode": {
        "name": "ipython",
        "version": 3
      },
      "file_extension": ".py",
      "mimetype": "text/x-python",
      "name": "python",
      "nbconvert_exporter": "python",
      "pygments_lexer": "ipython3",
      "version": "3.12.4"
    },
    "colab": {
      "provenance": []
    }
  },
  "nbformat": 4,
  "nbformat_minor": 5
}